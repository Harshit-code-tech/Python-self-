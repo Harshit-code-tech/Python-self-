{
 "cells": [
  {
   "metadata": {},
   "cell_type": "markdown",
   "source": "from sklearn.neighbors import KneighboursClassifier\n",
   "id": "ec2ebe8a1c0cf053"
  },
  {
   "metadata": {
    "ExecuteTime": {
     "end_time": "2024-05-15T14:48:49.671319Z",
     "start_time": "2024-05-15T14:48:49.668919Z"
    }
   },
   "cell_type": "code",
   "source": "print(\"hello\")",
   "id": "7b06a840b622df72",
   "outputs": [
    {
     "name": "stdout",
     "output_type": "stream",
     "text": [
      "hello\n"
     ]
    }
   ],
   "execution_count": 1
  },
  {
   "metadata": {
    "ExecuteTime": {
     "end_time": "2024-05-15T14:49:35.150221Z",
     "start_time": "2024-05-15T14:49:35.148204Z"
    }
   },
   "cell_type": "code",
   "source": [
    "from sklearn.neighbors import KNeighborsClassifier\n",
    "from sklearn.model_selection import train_test_split"
   ],
   "id": "d84fb78c99ea9992",
   "outputs": [],
   "execution_count": 3
  },
  {
   "metadata": {
    "ExecuteTime": {
     "end_time": "2024-05-15T14:49:43.069768Z",
     "start_time": "2024-05-15T14:49:42.873744Z"
    }
   },
   "cell_type": "code",
   "source": [
    "import pandas as pd\n",
    "import numpy as np"
   ],
   "id": "7b6c9df30b974a3a",
   "outputs": [],
   "execution_count": 4
  },
  {
   "metadata": {},
   "cell_type": "code",
   "outputs": [],
   "execution_count": null,
   "source": "",
   "id": "b4c3d2a598f7bc8d"
  }
 ],
 "metadata": {
  "kernelspec": {
   "display_name": "Python 3",
   "language": "python",
   "name": "python3"
  },
  "language_info": {
   "codemirror_mode": {
    "name": "ipython",
    "version": 2
   },
   "file_extension": ".py",
   "mimetype": "text/x-python",
   "name": "python",
   "nbconvert_exporter": "python",
   "pygments_lexer": "ipython2",
   "version": "2.7.6"
  }
 },
 "nbformat": 4,
 "nbformat_minor": 5
}
