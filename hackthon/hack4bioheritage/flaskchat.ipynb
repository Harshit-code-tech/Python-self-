{
 "cells": [
  {
   "metadata": {
    "ExecuteTime": {
     "end_time": "2024-05-12T13:56:30.688713Z",
     "start_time": "2024-05-12T13:56:30.608539Z"
    }
   },
   "cell_type": "code",
   "source": [
    "import json\n",
    "from flask import Flask, request, jsonify\n"
   ],
   "id": "5e9dade1c0e4b216",
   "execution_count": 1,
   "outputs": []
  },
  {
   "metadata": {
    "ExecuteTime": {
     "end_time": "2024-05-12T13:56:30.693842Z",
     "start_time": "2024-05-12T13:56:30.690008Z"
    }
   },
   "cell_type": "code",
   "source": [
    "with open('/home/hgidea/Desktop/Coding/Python/hackthon/hack4bioheritage/intents.json', 'r') as file:\n",
    "    intents_data = json.load(file)\n",
    "\n",
    "intents = intents_data['intents']\n",
    "\n",
    "def generate_response(user_query):\n",
    "    for intent in intents:\n",
    "        for pattern in intent['patterns']:\n",
    "            if user_query.lower() in pattern.lower():\n",
    "                response = intent['responses']\n",
    "                return response\n",
    "    return \"Sorry, I didn't understand that. Can you please try again?\"\n"
   ],
   "id": "31f078614f0aa45e",
   "execution_count": 2,
   "outputs": []
  },
  {
   "metadata": {
    "ExecuteTime": {
     "end_time": "2024-05-12T13:56:30.698365Z",
     "start_time": "2024-05-12T13:56:30.694947Z"
    }
   },
   "cell_type": "code",
   "source": "app = Flask(__name__)\n",
   "id": "45230e45ae13a354",
   "execution_count": 3,
   "outputs": []
  },
  {
   "metadata": {
    "ExecuteTime": {
     "end_time": "2024-05-12T13:56:30.702408Z",
     "start_time": "2024-05-12T13:56:30.699260Z"
    }
   },
   "cell_type": "code",
   "source": [
    "@app.route('/chat', methods=['POST'])\n",
    "def chat():\n",
    "    data = request.get_json()\n",
    "    user_query = data['query']\n",
    "    response = generate_response(user_query)\n",
    "    return jsonify({'response': response})\n"
   ],
   "id": "100f3c5fde761601",
   "execution_count": 4,
   "outputs": []
  },
  {
   "metadata": {
    "ExecuteTime": {
     "end_time": "2024-05-12T13:56:32.067082Z",
     "start_time": "2024-05-12T13:56:31.548718Z"
    }
   },
   "cell_type": "code",
   "source": [
    "if __name__ == '__main__':\n",
    "    app.run(debug=True)\n"
   ],
   "id": "4008f651506ec5c2",
   "execution_count": 5,
   "outputs": []
  }
 ],
 "metadata": {
  "kernelspec": {
   "display_name": "Python 3",
   "language": "python",
   "name": "python3"
  },
  "language_info": {
   "codemirror_mode": {
    "name": "ipython",
    "version": 2
   },
   "file_extension": ".py",
   "mimetype": "text/x-python",
   "name": "python",
   "nbconvert_exporter": "python",
   "pygments_lexer": "ipython2",
   "version": "2.7.6"
  }
 },
 "nbformat": 4,
 "nbformat_minor": 5
}
