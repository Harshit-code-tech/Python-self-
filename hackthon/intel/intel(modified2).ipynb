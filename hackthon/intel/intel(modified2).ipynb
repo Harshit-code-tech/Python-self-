{
 "cells": [
  {
   "metadata": {},
   "cell_type": "markdown",
   "source": "Importing the necessary libraries\n",
   "id": "60ba6cc95e31efd7"
  },
  {
   "metadata": {
    "ExecuteTime": {
     "end_time": "2024-05-24T12:16:58.460197Z",
     "start_time": "2024-05-24T12:16:57.706914Z"
    }
   },
   "cell_type": "code",
   "source": [
    "import pandas as pd\n",
    "import numpy as np\n",
    "import matplotlib.pyplot as plt\n",
    "import seaborn as sns\n",
    "from sklearn.preprocessing import LabelEncoder, StandardScaler\n",
    "from sklearn.model_selection import train_test_split, GridSearchCV\n",
    "from sklearn.pipeline import Pipeline\n",
    "from sklearn.compose import ColumnTransformer\n",
    "from sklearn.ensemble import RandomForestRegressor\n",
    "from sklearn.metrics import mean_squared_error, r2_score\n",
    "import shap\n",
    "import joblib"
   ],
   "id": "d606bd7853e9ab8a",
   "outputs": [],
   "execution_count": 1
  },
  {
   "metadata": {},
   "cell_type": "markdown",
   "source": "Loading the dataset",
   "id": "b6b3b7d22d6806ca"
  },
  {
   "metadata": {
    "ExecuteTime": {
     "end_time": "2024-05-24T12:21:02.757345Z",
     "start_time": "2024-05-24T12:21:02.693087Z"
    }
   },
   "cell_type": "code",
   "source": [
    "import chardet\n",
    "\n",
    "with open(\"/home/hgidea/Desktop/Coding/Python/hackthon/intel/archive/global air pollution dataset.csv\", \"rb\") as f:\n",
    "    encoding = chardet.detect(f.read())[\"encoding\"]\n",
    "\n",
    "df = pd.read_csv(\"/home/hgidea/Desktop/Coding/Python/hackthon/intel/archive/global air pollution dataset.csv\", encoding=encoding)"
   ],
   "id": "6cdac9061b80fe82",
   "outputs": [],
   "execution_count": 4
  },
  {
   "metadata": {},
   "cell_type": "markdown",
   "source": "Visualising the dataset",
   "id": "23065816285f9e70"
  },
  {
   "metadata": {},
   "cell_type": "code",
   "source": "df.head()",
   "id": "dcc45b3a9fec3964",
   "outputs": [],
   "execution_count": null
  },
  {
   "metadata": {},
   "cell_type": "markdown",
   "source": "Checking null values and dropping them",
   "id": "1508e93e14a8134f"
  },
  {
   "metadata": {},
   "cell_type": "code",
   "source": [
    "\n",
    "df = df.dropna()"
   ],
   "id": "2ae826ff615912e6",
   "outputs": [],
   "execution_count": null
  },
  {
   "metadata": {},
   "cell_type": "markdown",
   "source": "Plotting graph of categories ",
   "id": "6418626633eabcfc"
  },
  {
   "metadata": {},
   "cell_type": "code",
   "source": [
    "sns.boxplot(\n",
    "    x = \"AQI Category\",\n",
    "    y = \"AQI Value\",\n",
    "    showmeans=True,\n",
    "    data=df\n",
    ")\n",
    "plt.xlabel(\"AQI Category\")\n",
    "plt.ylabel(\"Air Quality Index (AQI)\")\n",
    "plt.title(\"Distribution of AQI Across Categories\")\n",
    "plt.xticks(rotation=45, ha='right')\n",
    "plt.tight_layout()\n",
    "plt.show()\n"
   ],
   "id": "5c3b1b5e4ce51956",
   "outputs": [],
   "execution_count": null
  },
  {
   "metadata": {},
   "cell_type": "markdown",
   "source": " Encode categorical variables\n",
   "id": "3225e50355c27b1b"
  },
  {
   "metadata": {},
   "cell_type": "code",
   "source": [
    "\n",
    "label_encoders = {}\n",
    "categorical_cols = ['AQI Category', 'CO AQI Category', 'Ozone AQI Category', 'NO2 AQI Category', 'PM2.5 AQI Category']\n",
    "\n",
    "for col in categorical_cols:\n",
    "    le = LabelEncoder()\n",
    "    df[col] = le.fit_transform(df[col])\n",
    "    label_encoders[col] = le"
   ],
   "id": "f81c94cd3d129e2d",
   "outputs": [],
   "execution_count": null
  },
  {
   "metadata": {},
   "cell_type": "markdown",
   "source": "",
   "id": "ae68150858f71a3f"
  },
  {
   "metadata": {},
   "cell_type": "code",
   "source": [
    "\n",
    "# Select only numeric columns for correlation matrix\n",
    "numeric_cols = df.select_dtypes(include=[np.number]).columns.tolist()\n"
   ],
   "id": "d2361c8ea981c80",
   "outputs": [],
   "execution_count": null
  },
  {
   "metadata": {},
   "cell_type": "markdown",
   "source": "Plotting Correlation heatmap\n",
   "id": "997783e73767ec73"
  },
  {
   "metadata": {},
   "cell_type": "code",
   "source": [
    "\n",
    "plt.figure(figsize=(12, 8))\n",
    "sns.heatmap(df[numeric_cols].corr(), annot=True, cmap='coolwarm')\n",
    "plt.title('Correlation Heatmap')\n",
    "plt.show()\n"
   ],
   "id": "ab62b946b2cefa11",
   "outputs": [],
   "execution_count": null
  },
  {
   "metadata": {},
   "cell_type": "markdown",
   "source": [
    "\n",
    "Split data into features and target\n"
   ],
   "id": "d87af1d8f6955b14"
  },
  {
   "metadata": {},
   "cell_type": "code",
   "source": [
    "\n",
    "features_to_use = ['PM2.5 AQI Value', 'CO AQI Value', 'Ozone AQI Value', 'NO2 AQI Value',\n",
    "                   'AQI Category', 'CO AQI Category', 'Ozone AQI Category', 'NO2 AQI Category', 'PM2.5 AQI Category']\n",
    "X = df[features_to_use]\n",
    "y = df['AQI Value']"
   ],
   "id": "91a65eb06edc65bb",
   "outputs": [],
   "execution_count": null
  },
  {
   "metadata": {},
   "cell_type": "markdown",
   "source": "Create a pipeline for preprocessing\n",
   "id": "ca679abe234c24ab"
  },
  {
   "metadata": {},
   "cell_type": "code",
   "source": [
    "\n",
    "numeric_features = ['PM2.5 AQI Value', 'Ozone AQI Value', 'CO AQI Value', 'NO2 AQI Value']\n",
    "categorical_features = ['AQI Category', 'CO AQI Category', 'Ozone AQI Category', 'NO2 AQI Category', 'PM2.5 AQI Category']\n"
   ],
   "id": "ec602a211357a270",
   "outputs": [],
   "execution_count": null
  },
  {
   "metadata": {},
   "cell_type": "code",
   "source": [
    "\n",
    "numeric_transformer = Pipeline(steps=[\n",
    "    ('scaler', StandardScaler())\n",
    "])\n",
    "preprocessor = ColumnTransformer(\n",
    "    transformers=[\n",
    "        ('num', numeric_transformer, numeric_features),\n",
    "        ('cat', 'passthrough', categorical_features)\n",
    "    ])\n"
   ],
   "id": "2b99a51df75d5661",
   "outputs": [],
   "execution_count": null
  },
  {
   "metadata": {},
   "cell_type": "code",
   "source": [
    "\n",
    "X_processed = preprocessor.fit_transform(X)"
   ],
   "id": "14b1bf84a03057f6",
   "outputs": [],
   "execution_count": null
  },
  {
   "metadata": {},
   "cell_type": "markdown",
   "source": "Splitting into train and test",
   "id": "980a4d75b5624c77"
  },
  {
   "metadata": {},
   "cell_type": "code",
   "source": [
    "\n",
    "X_train, X_test, y_train, y_test = train_test_split(X_processed, y, test_size=0.2, random_state=42)\n",
    "\n"
   ],
   "id": "bf1e6d9c9e1927b6",
   "outputs": [],
   "execution_count": null
  },
  {
   "metadata": {},
   "cell_type": "markdown",
   "source": "Training Model",
   "id": "e9e360b9101a4d1f"
  },
  {
   "metadata": {},
   "cell_type": "code",
   "source": [
    "\n",
    "model = RandomForestRegressor(n_estimators=100, random_state=42)\n",
    "model.fit(X_train, y_train)\n",
    "y_pred = model.predict(X_test)\n",
    "mse = mean_squared_error(y_test, y_pred)\n",
    "print(f'Mean Squared Error: {mse}')\n",
    "print(f'R-squared: {r2_score(y_test, y_pred)}')"
   ],
   "id": "378fddb9958b9646",
   "outputs": [],
   "execution_count": null
  },
  {
   "metadata": {},
   "cell_type": "code",
   "source": [
    "# GridSearchCV for RandomForestRegressor\n",
    "param_grid = {\n",
    "    'n_estimators': [50, 100, 200],\n",
    "    'max_features': ['sqrt', 'log2', None],\n",
    "    'max_depth': [None, 10, 20, 30],\n",
    "    'min_samples_split': [2, 5, 10],\n",
    "    'min_samples_leaf': [1, 2, 4]\n",
    "}\n"
   ],
   "id": "84ca7d4a32f056bc",
   "outputs": [],
   "execution_count": null
  },
  {
   "metadata": {},
   "cell_type": "code",
   "source": [
    "grid_search = GridSearchCV(estimator=model, param_grid=param_grid, cv=3, n_jobs=-1, scoring='neg_mean_squared_error', error_score='raise')\n",
    "grid_search.fit(X_train, y_train)\n"
   ],
   "id": "56d4a0c6beccd9ae",
   "outputs": [],
   "execution_count": null
  },
  {
   "metadata": {},
   "cell_type": "code",
   "source": [
    "# Get the best model\n",
    "best_model = grid_search.best_estimator_\n",
    "best_params = grid_search.best_params_"
   ],
   "id": "2758c6f79d3401f4",
   "outputs": [],
   "execution_count": null
  },
  {
   "metadata": {},
   "cell_type": "code",
   "source": [
    "# Make predictions\n",
    "y_pred = best_model.predict(X_test)\n",
    "mse = mean_squared_error(y_test, y_pred)\n",
    "r2 = r2_score(y_test, y_pred)"
   ],
   "id": "9c429ed951f2db0b",
   "outputs": [],
   "execution_count": null
  },
  {
   "metadata": {},
   "cell_type": "code",
   "source": [
    "\n",
    "print(f'Best parameters: {best_params}')\n",
    "print(f'Best Model Mean Squared Error: {mse}')\n",
    "print(f'R-squared: {r2}')"
   ],
   "id": "3708817b37d0bf56",
   "outputs": [],
   "execution_count": null
  },
  {
   "metadata": {},
   "cell_type": "code",
   "source": [
    "# SHAP values\n",
    "explainer = shap.TreeExplainer(best_model)\n",
    "shap_values = explainer.shap_values(X_test)\n",
    "shap.summary_plot(shap_values, X_test, feature_names=numeric_features + categorical_features)\n"
   ],
   "id": "b294e94ff14d2392",
   "outputs": [],
   "execution_count": null
  },
  {
   "metadata": {},
   "cell_type": "code",
   "source": [
    "\n",
    "# Residual Analysis\n",
    "residuals = y_test - y_pred"
   ],
   "id": "6b21a944a76331e2",
   "outputs": [],
   "execution_count": null
  },
  {
   "metadata": {},
   "cell_type": "code",
   "source": [
    "plt.figure(figsize=(10, 6))\n",
    "plt.scatter(y_pred, residuals)\n",
    "plt.hlines(0, xmin=min(y_pred), xmax=max(y_pred), colors='r', linestyles='dashed')\n",
    "plt.xlabel('Predicted Values')\n",
    "plt.ylabel('Residuals')\n",
    "plt.title('Residual Plot')\n",
    "plt.show()\n"
   ],
   "id": "baf12b333e9c06e3",
   "outputs": [],
   "execution_count": null
  },
  {
   "metadata": {},
   "cell_type": "code",
   "source": [
    "plt.figure(figsize=(10, 6))\n",
    "sns.histplot(residuals, kde=True)\n",
    "plt.title('Distribution of Residuals')\n",
    "plt.show()\n"
   ],
   "id": "eb57117c796f6e0",
   "outputs": [],
   "execution_count": null
  },
  {
   "metadata": {},
   "cell_type": "code",
   "source": [
    "# Save the model\n",
    "joblib.dump(best_model, '/home/hgidea/Desktop/Coding/Python/hackthon/intel/best_random_forest_model (3).pkl')\n"
   ],
   "id": "878b57bfc5f62431",
   "outputs": [],
   "execution_count": null
  },
  {
   "metadata": {},
   "cell_type": "code",
   "source": [
    "sns.pairplot(df[['AQI Value', 'CO AQI Value', 'Ozone AQI Value', 'NO2 AQI Value', 'PM2.5 AQI Value']], diag_kind=\"kde\")\n",
    "plt.tight_layout()\n",
    "plt.show()"
   ],
   "id": "a21cc486caf7f99",
   "outputs": [],
   "execution_count": null
  },
  {
   "metadata": {},
   "cell_type": "code",
   "outputs": [],
   "execution_count": null,
   "source": [
    "plt.figure(figsize=(10, 6))\n",
    "sns.countplot(\n",
    "    x=\"AQI Category\",\n",
    "    data=df,\n",
    "    palette=\"Set2\"\n",
    ")\n",
    "plt.xticks(rotation=45)\n",
    "plt.xlabel(\"AQI Category\")\n",
    "plt.ylabel(\"Count\")\n",
    "plt.title(\"Distribution of AQI Categories\")\n",
    "plt.grid(axis='y', linestyle='--', alpha=0.7)\n",
    "plt.tight_layout()\n",
    "plt.show()"
   ],
   "id": "fd2ee7ef272836c1"
  }
 ],
 "metadata": {
  "kernelspec": {
   "display_name": "Python 3",
   "language": "python",
   "name": "python3"
  },
  "language_info": {
   "codemirror_mode": {
    "name": "ipython",
    "version": 2
   },
   "file_extension": ".py",
   "mimetype": "text/x-python",
   "name": "python",
   "nbconvert_exporter": "python",
   "pygments_lexer": "ipython2",
   "version": "2.7.6"
  }
 },
 "nbformat": 4,
 "nbformat_minor": 5
}
