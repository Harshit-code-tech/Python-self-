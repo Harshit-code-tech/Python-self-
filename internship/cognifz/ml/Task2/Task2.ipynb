{
 "nbformat": 4,
 "nbformat_minor": 0,
 "metadata": {
  "colab": {
   "provenance": []
  },
  "kernelspec": {
   "name": "python3",
   "display_name": "Python 3"
  },
  "language_info": {
   "name": "python"
  }
 },
 "cells": [
  {
   "cell_type": "code",
   "source": [
    "import pandas as pd\n",
    "\n"
   ],
   "metadata": {
    "id": "pNXoSqNGEsNq"
   },
   "execution_count": 1,
   "outputs": []
  },
  {
   "cell_type": "code",
   "source": [
    "data = pd.read_csv(\"/home/hgidea/Desktop/Coding/Python/internship/cognifz/Dataset .csv\")\n",
    "data.head()"
   ],
   "metadata": {
    "colab": {
     "base_uri": "https://localhost:8080/",
     "height": 811
    },
    "id": "6cZ6schWE0q5",
    "outputId": "df701b03-2391-448a-d360-ab3f629042b4"
   },
   "execution_count": 5,
   "outputs": []
  },
  {
   "cell_type": "code",
   "source": [
    "data.shape"
   ],
   "metadata": {
    "colab": {
     "base_uri": "https://localhost:8080/"
    },
    "id": "pwMTk-GjE6ZF",
    "outputId": "d2490452-e0d4-4981-dcec-d45866fdc5c2"
   },
   "execution_count": 6,
   "outputs": []
  },
  {
   "cell_type": "code",
   "source": [
    "# Check for missing values\n",
    "null_counts = data.isnull().sum()\n",
    "print(\"Number of missing values in each column:\")\n",
    "print(null_counts)"
   ],
   "metadata": {
    "colab": {
     "base_uri": "https://localhost:8080/"
    },
    "id": "Jr5xYYyJFR-h",
    "outputId": "61cfbd83-65bc-438f-a4b4-b8bf9f3120e9"
   },
   "execution_count": 7,
   "outputs": []
  },
  {
   "cell_type": "code",
   "source": [
    "# Fill missing values in the 'Cuisines' column with zeros\n",
    "data['Cuisines'].fillna(0, inplace=True)\n"
   ],
   "metadata": {
    "id": "_YRxfjfRFT88"
   },
   "execution_count": 8,
   "outputs": []
  },
  {
   "cell_type": "code",
   "source": [
    "data.columns"
   ],
   "metadata": {
    "colab": {
     "base_uri": "https://localhost:8080/"
    },
    "id": "vEYycmoiFb0D",
    "outputId": "8eafe6da-34d5-4ad0-9b7c-abff283a87cc"
   },
   "execution_count": 9,
   "outputs": []
  },
  {
   "cell_type": "code",
   "source": [
    "df= data[['Restaurant ID','Restaurant Name','Cuisines','Aggregate rating','Votes']]"
   ],
   "metadata": {
    "id": "V1boh6IhFh0a"
   },
   "execution_count": 10,
   "outputs": []
  },
  {
   "cell_type": "code",
   "source": [
    "df"
   ],
   "metadata": {
    "colab": {
     "base_uri": "https://localhost:8080/",
     "height": 424
    },
    "id": "ZiT9L5mSFlKq",
    "outputId": "f3a77264-b977-4db7-c17d-9bab7248a9b6"
   },
   "execution_count": 11,
   "outputs": []
  },
  {
   "cell_type": "code",
   "source": [
    "def data_desc(df):\n",
    "    # Initialize an empty list to store column descriptions\n",
    "    columns_info = []\n",
    "\n",
    "    # Iterate through each column in the DataFrame\n",
    "    for column in df.columns:\n",
    "        # Gather basic information about the column\n",
    "        col_info = {\n",
    "            'Column': column,\n",
    "            'Data Type': df[column].dtype,\n",
    "            'Missing Value': df[column].isna().sum(),\n",
    "            'Pct Missing Value': round(df[column].isna().sum() / len(df) * 100, 2),\n",
    "            'Num Unique': df[column].nunique(),\n",
    "            'Unique Sample': list(df[column].drop_duplicates().sample(2).values)\n",
    "        }\n",
    "\n",
    "        # Append the column information to the list\n",
    "        columns_info.append(col_info)\n",
    "\n",
    "    # Create a DataFrame from the list of column descriptions\n",
    "    desc_df = pd.DataFrame(columns_info)\n",
    "\n",
    "    return desc_df\n",
    "\n"
   ],
   "metadata": {
    "id": "Q5yO_fZvFnHj"
   },
   "execution_count": 12,
   "outputs": []
  },
  {
   "cell_type": "code",
   "source": [
    "data_desc(df)"
   ],
   "metadata": {
    "colab": {
     "base_uri": "https://localhost:8080/",
     "height": 206
    },
    "id": "yhBs1JstHTBh",
    "outputId": "af6f43c2-a006-4b2c-db61-39b216f990bb"
   },
   "execution_count": 13,
   "outputs": []
  },
  {
   "cell_type": "code",
   "source": [
    "data_desc(df).shape\n"
   ],
   "metadata": {
    "colab": {
     "base_uri": "https://localhost:8080/"
    },
    "id": "2Oe1aw-OHnfx",
    "outputId": "fa9fa2cb-3fe1-4304-820e-f39643c81a0c"
   },
   "execution_count": 14,
   "outputs": []
  },
  {
   "cell_type": "code",
   "source": [
    "# Check for Duplicates\n",
    "df.duplicated().sum()"
   ],
   "metadata": {
    "colab": {
     "base_uri": "https://localhost:8080/"
    },
    "id": "i3Sw-G3UIFM1",
    "outputId": "04371c4c-a199-47f8-b786-984f8a8c51e8"
   },
   "execution_count": 15,
   "outputs": []
  },
  {
   "cell_type": "code",
   "source": [
    "df"
   ],
   "metadata": {
    "colab": {
     "base_uri": "https://localhost:8080/",
     "height": 424
    },
    "id": "m_kdbE8SIUD1",
    "outputId": "723c47e4-ac6f-451b-ed64-c4510cc9ff02"
   },
   "execution_count": 16,
   "outputs": []
  },
  {
   "cell_type": "code",
   "source": [
    "df['Restaurant Name'].duplicated().sum()"
   ],
   "metadata": {
    "colab": {
     "base_uri": "https://localhost:8080/"
    },
    "id": "77Ix8aCpItFi",
    "outputId": "e3c67a8b-1c8e-4cee-bea8-b5bbbf3cde21"
   },
   "execution_count": 17,
   "outputs": []
  },
  {
   "source": [
    "df['Restaurant Name'].value_counts()"
   ],
   "cell_type": "code",
   "metadata": {
    "colab": {
     "base_uri": "https://localhost:8080/"
    },
    "id": "Bxk3P_M9JUfw",
    "outputId": "6866a408-9322-426f-a0a9-e4c7ee2ed9cc"
   },
   "execution_count": 18,
   "outputs": []
  },
  {
   "cell_type": "code",
   "source": [
    "# Remove duplicate entries based on the 'Restaurant Name' column\n",
    "df_unique = df.drop_duplicates(subset='Restaurant Name')\n",
    "\n",
    "# Check the number of unique restaurants after removing duplicates\n",
    "num_unique_restaurants = len(df_unique)\n",
    "print(\"Number of unique restaurants:\", num_unique_restaurants)\n"
   ],
   "metadata": {
    "colab": {
     "base_uri": "https://localhost:8080/"
    },
    "id": "AIgt5FaJJZRK",
    "outputId": "66aa6e1f-fb0f-42af-9c67-4bf5cdf19a93"
   },
   "execution_count": 19,
   "outputs": []
  },
  {
   "cell_type": "code",
   "source": [
    "# Check if there are any columns other than 'Restaurant Name' that might be unique for each restaurant\n",
    "unique_cols = [col for col in df.columns if col != 'Restaurant Name' and df[col].nunique() > df['Restaurant Name'].nunique()]\n",
    "\n",
    "if len(unique_cols) == 0:\n",
    "  # No other columns are likely to differentiate restaurants, so dropping duplicates might be safe\n",
    "  print(\"Dropping all but one row for each duplicate restaurant name...\")\n",
    "  df.drop_duplicates(subset='Restaurant Name', inplace=True)\n",
    "else:\n",
    "  print(f\"Warning: Columns like {unique_cols} might contain unique information for each restaurant. Dropping duplicates based on name alone might lead to data loss.\")\n",
    "\n"
   ],
   "metadata": {
    "colab": {
     "base_uri": "https://localhost:8080/"
    },
    "id": "1QJWrJR0KUyF",
    "outputId": "c259d8e9-2c70-48ca-b9b8-4270535bc5c6"
   },
   "execution_count": 20,
   "outputs": []
  },
  {
   "cell_type": "code",
   "source": [
    "df['Restaurant Name'].value_counts()"
   ],
   "metadata": {
    "colab": {
     "base_uri": "https://localhost:8080/"
    },
    "id": "XQukqjUJKcCt",
    "outputId": "b0e9f20c-94a1-4a7a-e98b-6231c22e98ec"
   },
   "execution_count": 21,
   "outputs": []
  },
  {
   "cell_type": "code",
   "source": [
    "# Drop duplicate entries based on the 'Restaurant Name' column and keep the first occurrence\n",
    "df_unique2 = df.drop_duplicates(subset='Restaurant Name', keep='first')\n",
    "\n",
    "# Check the number of unique restaurants after removing duplicates\n",
    "num_unique_restaurants2 = len(df_unique2)\n",
    "print(\"Number of unique restaurants:\", num_unique_restaurants2)\n"
   ],
   "metadata": {
    "colab": {
     "base_uri": "https://localhost:8080/"
    },
    "id": "HHDBVJioKtPI",
    "outputId": "5aaec7d6-5b2e-456c-e583-4b917e94f4bd"
   },
   "execution_count": 22,
   "outputs": []
  },
  {
   "cell_type": "code",
   "source": [
    "df['Restaurant Name'].value_counts()"
   ],
   "metadata": {
    "colab": {
     "base_uri": "https://localhost:8080/"
    },
    "id": "QDEeDXyFKxKO",
    "outputId": "27ea8e86-155c-444a-c927-b9919ef77e8b"
   },
   "execution_count": 23,
   "outputs": []
  },
  {
   "cell_type": "code",
   "source": [
    "# Remove duplicate entries based on the 'Restaurant Name' column and keep the first occurrence\n",
    "df= df.drop_duplicates(subset='Restaurant Name', keep='first')\n",
    "\n",
    "# Check the number of unique restaurants after removing duplicates\n",
    "num_unique_restaurants = len(df)\n",
    "print(\"Number of unique restaurants:\", num_unique_restaurants)\n",
    "\n",
    "# Print the value counts of 'Restaurant Name' to verify that duplicates are removed\n",
    "print(df['Restaurant Name'].value_counts())\n"
   ],
   "metadata": {
    "colab": {
     "base_uri": "https://localhost:8080/"
    },
    "id": "OX6PdwIKLW5v",
    "outputId": "445ba348-0e90-41f0-91c9-99c87e2786f4"
   },
   "execution_count": 24,
   "outputs": []
  },
  {
   "cell_type": "code",
   "source": [
    "import matplotlib.pyplot as plt\n",
    "\n",
    "# Plot histogram of ratings\n",
    "plt.figure(figsize=(10, 6))\n",
    "plt.hist(df_unique['Aggregate rating'], bins=20, color='skyblue', edgecolor='black')\n",
    "plt.title('Distribution of Ratings')\n",
    "plt.xlabel('Rating')\n",
    "plt.ylabel('Frequency')\n",
    "plt.grid(True)\n",
    "plt.show()"
   ],
   "metadata": {
    "colab": {
     "base_uri": "https://localhost:8080/",
     "height": 564
    },
    "id": "pYpi-oi5LjYh",
    "outputId": "fb55b23a-e63e-41a5-fd01-538ccaca6012"
   },
   "execution_count": 25,
   "outputs": []
  },
  {
   "cell_type": "code",
   "source": [
    "# Filter restaurants with a rating greater than 4\n",
    "highly_rated_restaurants = df_unique[df_unique['Aggregate rating'] > 4]\n",
    "\n",
    "# Display the highly rated restaurants\n",
    "print(highly_rated_restaurants[['Restaurant Name', 'Aggregate rating']])\n"
   ],
   "metadata": {
    "colab": {
     "base_uri": "https://localhost:8080/"
    },
    "id": "DGqosXivNIjU",
    "outputId": "684eb6ff-1115-4550-b580-d9fb2fd38d4f"
   },
   "execution_count": 26,
   "outputs": []
  },
  {
   "cell_type": "code",
   "source": [
    "df['Aggregate rating'].value_counts()"
   ],
   "metadata": {
    "colab": {
     "base_uri": "https://localhost:8080/"
    },
    "id": "qrdQKuMbNkAk",
    "outputId": "e990b40a-8c74-46f5-ae6e-bbb367878bbb"
   },
   "execution_count": 27,
   "outputs": []
  },
  {
   "cell_type": "code",
   "source": [
    "df"
   ],
   "metadata": {
    "colab": {
     "base_uri": "https://localhost:8080/",
     "height": 424
    },
    "id": "EhVKThfcNqrl",
    "outputId": "d96c9d61-246c-4150-d5c8-cd95b48466b2"
   },
   "execution_count": 28,
   "outputs": []
  },
  {
   "cell_type": "code",
   "source": [
    "# Convert 'Cuisines' column to string\n",
    "df['Cuisines'] = df['Cuisines'].astype(str)\n",
    "\n",
    "# Split Cuisines into list\n",
    "df['Cuisines'] = df['Cuisines'].str.split(', ')\n",
    "\n",
    "# Display the DataFrame\n",
    "df"
   ],
   "metadata": {
    "colab": {
     "base_uri": "https://localhost:8080/",
     "height": 632
    },
    "id": "e0q1y8zwirWy",
    "outputId": "d3817ff6-6311-4a61-b05f-008d2159e4d7"
   },
   "execution_count": 29,
   "outputs": []
  },
  {
   "cell_type": "code",
   "source": [
    "# Explode the 'Cuisines' column\n",
    "df = df.explode('Cuisines')\n",
    "\n",
    "# Display the DataFrame\n",
    "df"
   ],
   "metadata": {
    "colab": {
     "base_uri": "https://localhost:8080/",
     "height": 424
    },
    "id": "DMEbNaGHj-Q1",
    "outputId": "d4824128-e049-4a3f-8dd6-4927dfc00e89"
   },
   "execution_count": 30,
   "outputs": []
  },
  {
   "cell_type": "code",
   "source": [
    "# Cuisines Check\n",
    "df['Cuisines'].value_counts()"
   ],
   "metadata": {
    "colab": {
     "base_uri": "https://localhost:8080/"
    },
    "id": "Aj7m3O61kI-5",
    "outputId": "01dd8135-407b-434f-c25c-6efd51b434fc"
   },
   "execution_count": 31,
   "outputs": []
  },
  {
   "cell_type": "code",
   "source": [
    "df.columns"
   ],
   "metadata": {
    "colab": {
     "base_uri": "https://localhost:8080/"
    },
    "id": "HL_4ITWqrkpg",
    "outputId": "39d70cd1-1488-437a-82a4-d435d11e5d14"
   },
   "execution_count": 32,
   "outputs": []
  },
  {
   "cell_type": "code",
   "source": [
    "df"
   ],
   "metadata": {
    "colab": {
     "base_uri": "https://localhost:8080/",
     "height": 424
    },
    "id": "_kZ7XTCh4SfS",
    "outputId": "98aac5b3-97b1-4b12-ff0a-4848034864b8"
   },
   "execution_count": 61,
   "outputs": []
  },
  {
   "cell_type": "code",
   "source": [
    "from sklearn.feature_extraction.text import TfidfVectorizer\n",
    "\n",
    "# Join the cuisines back into a single string per restaurant\n",
    "df['Cuisines'] = df.groupby('Restaurant ID')['Cuisines'].transform(lambda x: ' '.join(x))\n",
    "\n",
    "# Drop duplicates again after concatenation\n",
    "df = df.drop_duplicates(subset=['Restaurant ID'])\n",
    "\n",
    "# Initialize the TF-IDF Vectorizer\n",
    "tfidf = TfidfVectorizer()\n",
    "\n",
    "# Apply TF-IDF to the 'Cuisines' column\n",
    "tfidf_matrix = tfidf.fit_transform(df['Cuisines'])\n"
   ],
   "metadata": {
    "id": "qNhL4cD4TBHE"
   },
   "execution_count": 55,
   "outputs": []
  },
  {
   "cell_type": "code",
   "source": [
    "from sklearn.metrics.pairwise import cosine_similarity\n",
    "\n",
    "# Compute cosine similarity matrix\n",
    "cosine_sim = cosine_similarity(tfidf_matrix, tfidf_matrix)\n",
    "\n",
    "# Create a mapping of restaurant ID to index\n",
    "indices = pd.Series(df.index, index=df['Restaurant Name']).drop_duplicates()\n"
   ],
   "metadata": {
    "id": "rugFpGUrTRzg"
   },
   "execution_count": 56,
   "outputs": []
  },
  {
   "cell_type": "code",
   "source": [
    "def get_recommendations(user_cuisine, user_rating, cosine_sim=cosine_sim):\n",
    "    # Filter the dataframe based on the user's rating preference\n",
    "    if user_rating == 'cheap':\n",
    "        rating_filter = (df['Aggregate rating'] < 3)\n",
    "    elif user_rating == 'moderate':\n",
    "        rating_filter = (3 <= df['Aggregate rating']) & (df['Aggregate rating'] < 4)\n",
    "    elif user_rating == 'shine':\n",
    "        rating_filter = (df['Aggregate rating'] >= 4)\n",
    "\n",
    "    filtered_df = df[rating_filter]\n",
    "\n",
    "    # Check if there are restaurants matching the criteria\n",
    "    if filtered_df.empty:\n",
    "        return \"No restaurants found matching your criteria.\"\n",
    "\n",
    "    # Apply TF-IDF on the filtered dataframe\n",
    "    tfidf_matrix_filtered = tfidf.transform(filtered_df['Cuisines'])\n",
    "    cosine_sim_filtered = cosine_similarity(tfidf_matrix_filtered, tfidf_matrix)\n",
    "\n",
    "    # Calculate the similarity scores for the user's preferred cuisine\n",
    "    idx = None\n",
    "    for i in range(len(filtered_df)):\n",
    "        if user_cuisine.lower() in filtered_df.iloc[i]['Cuisines'].lower():\n",
    "            idx = i\n",
    "            break\n",
    "\n",
    "    if idx is None:\n",
    "        return \"No restaurants found matching your cuisine preference.\"\n",
    "\n",
    "    sim_scores = list(enumerate(cosine_sim_filtered[idx]))\n",
    "    sim_scores = sorted(sim_scores, key=lambda x: x[1], reverse=True)\n",
    "    sim_scores = sim_scores[1:6]  # Top 5 recommendations\n",
    "    restaurant_indices = [i[0] for i in sim_scores]\n",
    "\n",
    "    # Return the top 5 most similar restaurants\n",
    "    return filtered_df.iloc[restaurant_indices][['Restaurant Name', 'Cuisines', 'Aggregate rating', 'Votes']]\n",
    "\n"
   ],
   "metadata": {
    "id": "nB9jQSEdTVyo"
   },
   "execution_count": 57,
   "outputs": []
  },
  {
   "cell_type": "code",
   "source": [
    "# Example usage\n",
    "user_cuisine = input(\"Enter your preferred cuisine: \")\n",
    "user_rating = input(\"Enter your preferred rating category (cheap, moderate, shine): \")\n",
    "recommendations = get_recommendations(user_cuisine, user_rating)\n",
    "recommendations\n"
   ],
   "metadata": {
    "colab": {
     "base_uri": "https://localhost:8080/",
     "height": 241
    },
    "id": "v2HkaaDkTbkR",
    "outputId": "b597d3fd-a072-4046-ce6a-2512567c3b3b"
   },
   "execution_count": 60,
   "outputs": []
  }
 ]
}
