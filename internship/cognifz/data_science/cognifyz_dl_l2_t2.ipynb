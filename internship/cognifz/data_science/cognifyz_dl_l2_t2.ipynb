{
  "nbformat": 4,
  "nbformat_minor": 0,
  "metadata": {
    "colab": {
      "provenance": []
    },
    "kernelspec": {
      "name": "python3",
      "display_name": "Python 3"
    },
    "language_info": {
      "name": "python"
    }
  },
  "cells": [
    {
      "cell_type": "code",
      "execution_count": 23,
      "metadata": {
        "id": "0W0C7hxMzEqV"
      },
      "outputs": [],
      "source": [
        "import pandas as pd\n",
        "import numpy as np\n",
        "import matplotlib.pyplot as plt\n",
        "import seaborn as sns"
      ]
    },
    {
      "cell_type": "code",
      "source": [
        "df=pd.read_csv(\"/content/Dataset  (1).csv\")\n",
        "df.columns"
      ],
      "metadata": {
        "colab": {
          "base_uri": "https://localhost:8080/"
        },
        "id": "hG40Li3uzU69",
        "outputId": "b75feaca-73e1-4b3a-f219-632353efe22d"
      },
      "execution_count": 2,
      "outputs": [
        {
          "output_type": "execute_result",
          "data": {
            "text/plain": [
              "Index(['Restaurant ID', 'Restaurant Name', 'Country Code', 'City', 'Address',\n",
              "       'Locality', 'Locality Verbose', 'Longitude', 'Latitude', 'Cuisines',\n",
              "       'Average Cost for two', 'Currency', 'Has Table booking',\n",
              "       'Has Online delivery', 'Is delivering now', 'Switch to order menu',\n",
              "       'Price range', 'Aggregate rating', 'Rating color', 'Rating text',\n",
              "       'Votes'],\n",
              "      dtype='object')"
            ]
          },
          "metadata": {},
          "execution_count": 2
        }
      ]
    },
    {
      "cell_type": "code",
      "source": [
        "# Task 1: Determine the most common price range among all the restaurants\n",
        "most_common_price_range = df['Price range'].mode()[0]\n",
        "print(\"Most Common Price Range:\", most_common_price_range)"
      ],
      "metadata": {
        "colab": {
          "base_uri": "https://localhost:8080/"
        },
        "id": "z_QQRPozzl3e",
        "outputId": "eaa257b6-320f-497d-8f87-ddc1db6daf50"
      },
      "execution_count": 15,
      "outputs": [
        {
          "output_type": "stream",
          "name": "stdout",
          "text": [
            "Most Common Price Range: 1\n"
          ]
        }
      ]
    },
    {
      "cell_type": "code",
      "source": [
        "# Task 2: Calculate the average rating for each price range\n",
        "avg_rating_by_price_range = df.groupby('Price range')['Aggregate rating'].mean().reset_index().round(2)\n",
        "avg_rating_by_price_range.columns = ['Price range', 'Average rating']\n",
        "print(\"\\nAverage rating for each price range:\")\n",
        "print(avg_rating_by_price_range)"
      ],
      "metadata": {
        "colab": {
          "base_uri": "https://localhost:8080/"
        },
        "id": "uXSovBUl23tq",
        "outputId": "1b8e1895-dc6e-44df-c4f0-f0c0649d2035"
      },
      "execution_count": 30,
      "outputs": [
        {
          "output_type": "stream",
          "name": "stdout",
          "text": [
            "\n",
            "Average rating for each price range:\n",
            "   Price range  Average rating\n",
            "0            1            2.00\n",
            "1            2            2.94\n",
            "2            3            3.68\n",
            "3            4            3.82\n"
          ]
        }
      ]
    },
    {
      "cell_type": "code",
      "source": [
        "# Task 3: Identify the color that represents the highest average rating among different price ranges\n",
        "highest_avg_rating = avg_rating_by_price_range['Average rating'].max()\n",
        "highest_avg_rating_restaurants = df[df['Aggregate rating'] == highest_avg_rating]\n",
        "\n",
        "if not highest_avg_rating_restaurants.empty:\n",
        "    highest_avg_rating_color = highest_avg_rating_restaurants['Rating color'].iloc[0]\n",
        "    print(\"\\nColor representing the highest average rating among different price ranges:\", highest_avg_rating_color)\n",
        "else:\n",
        "    print(\"\\nThere are no restaurants with the highest average rating.\")"
      ],
      "metadata": {
        "colab": {
          "base_uri": "https://localhost:8080/"
        },
        "id": "quO0uTJQ29y8",
        "outputId": "aa9a2f09-1c20-4b63-93bc-05206fd2afb7"
      },
      "execution_count": 38,
      "outputs": [
        {
          "output_type": "stream",
          "name": "stdout",
          "text": [
            "\n",
            "There are no restaurants with the highest average rating.\n"
          ]
        }
      ]
    },
    {
      "cell_type": "code",
      "source": [
        "# Create a bar plot\n",
        "plt.figure(figsize=(10, 6))\n",
        "sns.barplot(x='Price range', y='Average rating', data=avg_rating_by_price_range, palette='viridis')\n",
        "plt.xlabel('Price Range')\n",
        "plt.ylabel('Average Rating')\n",
        "plt.title('Average Rating by Price Range')\n",
        "plt.show()"
      ],
      "metadata": {
        "colab": {
          "base_uri": "https://localhost:8080/",
          "height": 651
        },
        "id": "RAwtxPM8247q",
        "outputId": "58323d6a-cf7a-4f37-9e1e-98ce46c43313"
      },
      "execution_count": 39,
      "outputs": [
        {
          "output_type": "stream",
          "name": "stderr",
          "text": [
            "<ipython-input-39-fd03db8f9cbd>:3: FutureWarning: \n",
            "\n",
            "Passing `palette` without assigning `hue` is deprecated and will be removed in v0.14.0. Assign the `x` variable to `hue` and set `legend=False` for the same effect.\n",
            "\n",
            "  sns.barplot(x='Price range', y='Average rating', data=avg_rating_by_price_range, palette='viridis')\n"
          ]
        },
        {
          "output_type": "display_data",
          "data": {
            "text/plain": [
              "<Figure size 1000x600 with 1 Axes>"
            ],
            "image/png": "[encoded data removed]"
          },
          "metadata": {}
        }
      ]
    },
    {
      "cell_type": "code",
      "source": [
        "print(\"\\nColor representing the highest average rating among different price ranges:\", highest_avg_rating_color)"
      ],
      "metadata": {
        "colab": {
          "base_uri": "https://localhost:8080/"
        },
        "id": "chUNw39s26oC",
        "outputId": "8b6189a5-a8ed-4fa3-c864-8b96e51f0158"
      },
      "execution_count": 40,
      "outputs": [
        {
          "output_type": "stream",
          "name": "stdout",
          "text": [
            "\n",
            "Color representing the highest average rating among different price ranges: Dark Green\n"
          ]
        }
      ]
    },
    {
      "cell_type": "code",
      "source": [],
      "metadata": {
        "id": "bZxjWMXJ4c6q"
      },
      "execution_count": null,
      "outputs": []
    }
  ]
}