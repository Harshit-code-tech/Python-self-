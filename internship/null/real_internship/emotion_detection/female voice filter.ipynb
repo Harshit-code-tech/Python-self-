{
 "cells": [
  {
   "metadata": {},
   "cell_type": "markdown",
   "source": "# GENDER FILTER FOR VOICE",
   "id": "3e52837bd7530f63"
  },
  {
   "metadata": {
    "ExecuteTime": {
     "end_time": "2024-07-08T12:46:37.610230Z",
     "start_time": "2024-07-08T12:46:37.607122Z"
    }
   },
   "cell_type": "code",
   "source": [
    "# Importing the required libraries\n",
    "import os\n",
    "import pandas as pd\n",
    "import numpy as np\n",
    "import sys\n",
    "import warnings\n",
    "if not sys.warnoptions:\n",
    "    warnings.simplefilter(\"ignore\")\n",
    "warnings.filterwarnings(\"ignore\", category=DeprecationWarning) "
   ],
   "id": "dcaca0d051b7faa2",
   "outputs": [],
   "execution_count": 4
  },
  {
   "metadata": {
    "ExecuteTime": {
     "end_time": "2024-07-08T12:48:55.094910Z",
     "start_time": "2024-07-08T12:48:55.091243Z"
    }
   },
   "cell_type": "code",
   "source": [
    "# Define the path to your male data\n",
    "male = \"/home/hgidea/Desktop/Coding/Python/internship/null/real_internship/emotion_detection/speech_emotion_detection/male/\"\n",
    "\n",
    "# List all files in the directory\n",
    "male_files = [f for f in os.listdir(male) if f.endswith('.wav')]\n",
    "print(male_files[:5])"
   ],
   "id": "267ccbe5dec50059",
   "outputs": [
    {
     "name": "stdout",
     "output_type": "stream",
     "text": [
      "['thirdmale (240).wav', 'threemale (13).wav', 'thirdmale (192).wav', 'indianmale (164).wav', 'indianmale (87).wav']\n"
     ]
    }
   ],
   "execution_count": 5
  },
  {
   "metadata": {
    "ExecuteTime": {
     "end_time": "2024-07-08T12:49:04.534590Z",
     "start_time": "2024-07-08T12:49:04.531661Z"
    }
   },
   "cell_type": "code",
   "source": [
    "# Define the path to your female data\n",
    "female = \"/home/hgidea/Desktop/Coding/Python/internship/null/real_internship/emotion_detection/speech_emotion_detection/female/\"\n",
    "\n",
    "# List all files in the directory\n",
    "female_files = [f for f in os.listdir(female) if f.endswith('.wav')]\n",
    "print(female_files[:5])"
   ],
   "id": "a653576361e4b291",
   "outputs": [
    {
     "name": "stdout",
     "output_type": "stream",
     "text": [
      "['hindi_0827.wav', 'recording2020_01_16_11_22_18.wav', 'hindi_0823.wav', 'hindi_0379.wav', 'hindi_0917.wav']\n"
     ]
    }
   ],
   "execution_count": 6
  },
  {
   "metadata": {},
   "cell_type": "code",
   "outputs": [],
   "execution_count": null,
   "source": "",
   "id": "926faf10fd20b5f3"
  }
 ],
 "metadata": {
  "kernelspec": {
   "display_name": "Python 3",
   "language": "python",
   "name": "python3"
  },
  "language_info": {
   "codemirror_mode": {
    "name": "ipython",
    "version": 2
   },
   "file_extension": ".py",
   "mimetype": "text/x-python",
   "name": "python",
   "nbconvert_exporter": "python",
   "pygments_lexer": "ipython2",
   "version": "2.7.6"
  }
 },
 "nbformat": 4,
 "nbformat_minor": 5
}
